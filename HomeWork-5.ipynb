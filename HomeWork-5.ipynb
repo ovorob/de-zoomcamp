{
 "cells": [
  {
   "cell_type": "code",
   "execution_count": 1,
   "id": "13c86fc1-b621-44dd-bc06-3b508b857ed2",
   "metadata": {},
   "outputs": [],
   "source": [
    "import pyspark"
   ]
  },
  {
   "cell_type": "code",
   "execution_count": 2,
   "id": "4d787114-016d-4103-a80d-3c2e0a45f9bb",
   "metadata": {},
   "outputs": [
    {
     "data": {
      "text/plain": [
       "'3.3.2'"
      ]
     },
     "execution_count": 2,
     "metadata": {},
     "output_type": "execute_result"
    }
   ],
   "source": [
    "pyspark.__version__"
   ]
  },
  {
   "cell_type": "markdown",
   "id": "dfee938b-a785-49af-976c-2b2e9013e304",
   "metadata": {},
   "source": [
    "### Question 1: Spark version -> '3.3.2'"
   ]
  },
  {
   "cell_type": "code",
   "execution_count": 3,
   "id": "164cfbe4-0796-4bfb-af6c-5f8b77047410",
   "metadata": {},
   "outputs": [],
   "source": [
    "from pyspark.sql import SparkSession"
   ]
  },
  {
   "cell_type": "code",
   "execution_count": 4,
   "id": "883247b9-570c-4b7e-a735-dfe8b1e58b1b",
   "metadata": {},
   "outputs": [
    {
     "name": "stderr",
     "output_type": "stream",
     "text": [
      "Setting default log level to \"WARN\".\n",
      "To adjust logging level use sc.setLogLevel(newLevel). For SparkR, use setLogLevel(newLevel).\n"
     ]
    },
    {
     "name": "stdout",
     "output_type": "stream",
     "text": [
      "25/03/07 00:05:11 WARN NativeCodeLoader: Unable to load native-hadoop library for your platform... using builtin-java classes where applicable\n"
     ]
    }
   ],
   "source": [
    "spark = SparkSession.builder \\\n",
    "        .master('local[*]') \\\n",
    "        .appName('test') \\\n",
    "        .getOrCreate()\n",
    "        "
   ]
  },
  {
   "cell_type": "markdown",
   "id": "8357f74e-9d24-46dd-b7dc-7ea30466b7f4",
   "metadata": {},
   "source": [
    "### Getting Yellow 2024-10 data from the official website:"
   ]
  },
  {
   "cell_type": "code",
   "execution_count": 5,
   "id": "f180afe5-f1d8-4b23-8cb0-bb0bf9f565fe",
   "metadata": {},
   "outputs": [
    {
     "name": "stdout",
     "output_type": "stream",
     "text": [
      "--2025-03-07 00:05:26--  https://d37ci6vzurychx.cloudfront.net/trip-data/yellow_tripdata_2024-10.parquet\n",
      "Resolving d37ci6vzurychx.cloudfront.net (d37ci6vzurychx.cloudfront.net)... 18.155.128.222, 18.155.128.46, 18.155.128.187, ...\n",
      "connected. to d37ci6vzurychx.cloudfront.net (d37ci6vzurychx.cloudfront.net)|18.155.128.222|:443... \n",
      "200 OKequest sent, awaiting response... \n",
      "Length: 64346071 (61M) [binary/octet-stream]\n",
      "Saving to: ‘yellow_tripdata_2024-10.parquet’\n",
      "\n",
      "yellow_tripdata_202 100%[===================>]  61.36M  83.5MB/s    in 0.7s    \n",
      "\n",
      "2025-03-07 00:05:27 (83.5 MB/s) - ‘yellow_tripdata_2024-10.parquet’ saved [64346071/64346071]\n",
      "\n"
     ]
    }
   ],
   "source": [
    "!wget https://d37ci6vzurychx.cloudfront.net/trip-data/yellow_tripdata_2024-10.parquet"
   ]
  },
  {
   "cell_type": "code",
   "execution_count": 74,
   "id": "b15332d8-511f-4bce-b3fe-c81ebb00453d",
   "metadata": {},
   "outputs": [],
   "source": [
    "df = spark.read.parquet('yellow_tripdata_2024-10.parquet')"
   ]
  },
  {
   "cell_type": "markdown",
   "id": "5168be28-a1a3-4503-b583-f8216b2216d9",
   "metadata": {},
   "source": [
    "### Repartition and write to the results folder"
   ]
  },
  {
   "cell_type": "code",
   "execution_count": 8,
   "id": "3dcbd36d-a45d-4921-bc69-1323fda6898c",
   "metadata": {},
   "outputs": [
    {
     "name": "stderr",
     "output_type": "stream",
     "text": [
      "                                                                                "
     ]
    }
   ],
   "source": [
    "df.repartition(4).write.parquet('./results/', mode='overwrite')"
   ]
  },
  {
   "cell_type": "markdown",
   "id": "64329c1e-9520-45c6-a8d8-fb99a4c54d00",
   "metadata": {},
   "source": [
    "### Question 2: Get partition's size -> 25MB"
   ]
  },
  {
   "cell_type": "code",
   "execution_count": 11,
   "id": "9ef89c6d-2fdf-4831-9db6-ba333046cdcb",
   "metadata": {},
   "outputs": [
    {
     "name": "stdout",
     "output_type": "stream",
     "text": [
      "total 100M\n",
      "-rw-r--r-- 1 ovorobiov ovorobiov   0 Mar  7 00:12 _SUCCESS\n",
      "-rw-r--r-- 1 ovorobiov ovorobiov 25M Mar  7 00:12 part-00000-845edd6c-7a90-4954-bf44-9d901fe12b69-c000.snappy.parquet\n",
      "-rw-r--r-- 1 ovorobiov ovorobiov 25M Mar  7 00:12 part-00001-845edd6c-7a90-4954-bf44-9d901fe12b69-c000.snappy.parquet\n",
      "-rw-r--r-- 1 ovorobiov ovorobiov 25M Mar  7 00:12 part-00002-845edd6c-7a90-4954-bf44-9d901fe12b69-c000.snappy.parquet\n",
      "-rw-r--r-- 1 ovorobiov ovorobiov 25M Mar  7 00:12 part-00003-845edd6c-7a90-4954-bf44-9d901fe12b69-c000.snappy.parquet\n"
     ]
    }
   ],
   "source": [
    "!ls -lh ./results"
   ]
  },
  {
   "cell_type": "markdown",
   "id": "ac41b12d-7898-4206-80cd-428ce4c9ec8c",
   "metadata": {},
   "source": [
    "### Question 3: How many taxi trips were there on the 15th of October? -> 128893"
   ]
  },
  {
   "cell_type": "code",
   "execution_count": 75,
   "id": "9b35b82b-61de-450f-83fe-2702a6a7782b",
   "metadata": {},
   "outputs": [],
   "source": [
    "df.createOrReplaceTempView('yellow')"
   ]
  },
  {
   "cell_type": "code",
   "execution_count": 76,
   "id": "0441075c-0005-4292-9dd0-8fc194dc6f24",
   "metadata": {},
   "outputs": [
    {
     "name": "stderr",
     "output_type": "stream",
     "text": [
      "[Stage 48:>                                                         (0 + 2) / 2]"
     ]
    },
    {
     "name": "stdout",
     "output_type": "stream",
     "text": [
      "+--------------------+------+\n",
      "|tpep_pickup_datetime| trips|\n",
      "+--------------------+------+\n",
      "|          2024-10-15|128893|\n",
      "+--------------------+------+\n",
      "\n"
     ]
    },
    {
     "name": "stderr",
     "output_type": "stream",
     "text": [
      "                                                                                "
     ]
    }
   ],
   "source": [
    "spark.sql(\"\"\"\n",
    "SELECT DATE(tpep_pickup_datetime),\n",
    "count(1) as trips\n",
    "FROM yellow\n",
    "WHERE DATE(tpep_pickup_datetime) = '2024-10-15'\n",
    "GROUP BY 1\n",
    "\"\"\").show()"
   ]
  },
  {
   "cell_type": "markdown",
   "id": "1637080e-45ba-4668-a272-f222561a87a5",
   "metadata": {},
   "source": [
    "### Question 4: What is the length of the longest trip in the dataset in hours? -> 162.61777777777777"
   ]
  },
  {
   "cell_type": "code",
   "execution_count": 34,
   "id": "2e94cb0f-9723-4266-93fb-79cbe1844f15",
   "metadata": {},
   "outputs": [],
   "source": [
    "from pyspark.sql import functions as F"
   ]
  },
  {
   "cell_type": "code",
   "execution_count": 77,
   "id": "c78e1989-e7a2-49f7-bfa7-137270b6173b",
   "metadata": {},
   "outputs": [],
   "source": [
    "df = df.withColumn('trip_duration', (F.unix_timestamp(df.tpep_dropoff_datetime)-F.unix_timestamp(df.tpep_pickup_datetime))/3600)"
   ]
  },
  {
   "cell_type": "code",
   "execution_count": 82,
   "id": "5b6d32db-df66-4cde-b53a-8d397e7ceaf1",
   "metadata": {},
   "outputs": [
    {
     "name": "stderr",
     "output_type": "stream",
     "text": [
      "                                                                                "
     ]
    }
   ],
   "source": [
    "df.repartition(4).write.parquet('./results/', mode='overwrite')"
   ]
  },
  {
   "cell_type": "code",
   "execution_count": 83,
   "id": "d2696e1f-a7fc-49d3-9169-acf9dcee03ac",
   "metadata": {},
   "outputs": [
    {
     "name": "stderr",
     "output_type": "stream",
     "text": [
      "[Stage 57:>                                                         (0 + 2) / 2]"
     ]
    },
    {
     "name": "stdout",
     "output_type": "stream",
     "text": [
      "+--------+--------------------+---------------------+---------------+-------------+----------+------------------+------------+------------+------------+-----------+-----+-------+----------+------------+---------------------+------------+--------------------+-----------+------------------+\n",
      "|VendorID|tpep_pickup_datetime|tpep_dropoff_datetime|passenger_count|trip_distance|RatecodeID|store_and_fwd_flag|PULocationID|DOLocationID|payment_type|fare_amount|extra|mta_tax|tip_amount|tolls_amount|improvement_surcharge|total_amount|congestion_surcharge|Airport_fee|     trip_duration|\n",
      "+--------+--------------------+---------------------+---------------+-------------+----------+------------------+------------+------------+------------+-----------+-----+-------+----------+------------+---------------------+------------+--------------------+-----------+------------------+\n",
      "|       2| 2024-10-16 13:03:49|  2024-10-23 07:40:53|              1|        32.37|         3|                 N|          48|         265|           2|      152.5|  0.0|    0.0|       0.0|       17.38|                  1.0|      170.88|                 0.0|        0.0|162.61777777777777|\n",
      "+--------+--------------------+---------------------+---------------+-------------+----------+------------------+------------+------------+------------+-----------+-----+-------+----------+------------+---------------------+------------+--------------------+-----------+------------------+\n",
      "only showing top 1 row\n",
      "\n"
     ]
    },
    {
     "name": "stderr",
     "output_type": "stream",
     "text": [
      "                                                                                "
     ]
    }
   ],
   "source": [
    "df = spark.read.parquet('./results/')\n",
    "df.orderBy(df.trip_duration.desc()).show(1)"
   ]
  },
  {
   "cell_type": "markdown",
   "id": "9871fc13-11ed-454b-96a8-5fc107ab482e",
   "metadata": {},
   "source": [
    "### Question 5: Spark’s User Interface which shows the application's dashboard runs on which local port? -> 4040"
   ]
  },
  {
   "cell_type": "markdown",
   "id": "9716b25d-35c5-4802-b754-4dc5ee97f1d0",
   "metadata": {},
   "source": [
    "### Question 6: Least frequent pickup location zone -> Governor's Island/Ellis Island/Liberty Island"
   ]
  },
  {
   "cell_type": "code",
   "execution_count": 65,
   "id": "22fc5b51-cc08-4478-9a86-c708104119cb",
   "metadata": {},
   "outputs": [
    {
     "name": "stdout",
     "output_type": "stream",
     "text": [
      "--2025-03-07 01:13:12--  https://d37ci6vzurychx.cloudfront.net/misc/taxi_zone_lookup.csv\n",
      "Resolving d37ci6vzurychx.cloudfront.net (d37ci6vzurychx.cloudfront.net)... 18.244.115.167, 18.244.115.220, 18.244.115.107, ...\n",
      "Connecting to d37ci6vzurychx.cloudfront.net (d37ci6vzurychx.cloudfront.net)|18.244.115.167|:443... connected.\n",
      "HTTP request sent, awaiting response... 200 OK\n",
      "Length: 12331 (12K) [text/csv]\n",
      "Saving to: ‘taxi_zone_lookup.csv’\n",
      "\n",
      "taxi_zone_lookup.cs 100%[===================>]  12.04K  --.-KB/s    in 0s      \n",
      "\n",
      "2025-03-07 01:13:12 (140 MB/s) - ‘taxi_zone_lookup.csv’ saved [12331/12331]\n",
      "\n"
     ]
    }
   ],
   "source": [
    "!wget https://d37ci6vzurychx.cloudfront.net/misc/taxi_zone_lookup.csv"
   ]
  },
  {
   "cell_type": "code",
   "execution_count": 71,
   "id": "2c692995-63b0-46bd-9e49-beab0bca57ef",
   "metadata": {},
   "outputs": [],
   "source": [
    "df_zones = spark.read.option('header', True).csv('taxi_zone_lookup.csv')"
   ]
  },
  {
   "cell_type": "code",
   "execution_count": 84,
   "id": "1618f4ae-74bf-4719-83bc-5844aaa9c165",
   "metadata": {},
   "outputs": [],
   "source": [
    "df_results = df.join(df_zones, df.PULocationID == df_zones.LocationID)"
   ]
  },
  {
   "cell_type": "code",
   "execution_count": 88,
   "id": "30ffba8a-d447-416c-a604-586878bd1096",
   "metadata": {},
   "outputs": [
    {
     "name": "stderr",
     "output_type": "stream",
     "text": [
      "                                                                                "
     ]
    }
   ],
   "source": [
    "df_results.drop('LocationID').write.parquet('/tmp/results')"
   ]
  },
  {
   "cell_type": "code",
   "execution_count": 89,
   "id": "2cccf131-c58a-4ef6-a37c-6370ef41c375",
   "metadata": {},
   "outputs": [],
   "source": [
    "df_final = spark.read.parquet('/tmp/results/')"
   ]
  },
  {
   "cell_type": "code",
   "execution_count": 90,
   "id": "25b45e48-a50b-47ff-8e3f-02496724b1b5",
   "metadata": {},
   "outputs": [],
   "source": [
    "df_final.createOrReplaceTempView('yellow_f')"
   ]
  },
  {
   "cell_type": "code",
   "execution_count": 95,
   "id": "7a7e4b6b-9078-491d-a06d-03cbf8aeb409",
   "metadata": {},
   "outputs": [
    {
     "name": "stderr",
     "output_type": "stream",
     "text": [
      "[Stage 76:=============================>                            (1 + 1) / 2]"
     ]
    },
    {
     "name": "stdout",
     "output_type": "stream",
     "text": [
      "+--------------------+-----+\n",
      "|                zone|trips|\n",
      "+--------------------+-----+\n",
      "|Governor's Island...|    1|\n",
      "+--------------------+-----+\n",
      "only showing top 1 row\n",
      "\n"
     ]
    },
    {
     "name": "stderr",
     "output_type": "stream",
     "text": [
      "                                                                                "
     ]
    }
   ],
   "source": [
    "spark.sql(\"\"\"\n",
    "SELECT zone,\n",
    "count(1) as trips\n",
    "FROM yellow_f\n",
    "GROUP BY 1\n",
    "ORDER BY 2 ASC\n",
    "\"\"\").show(1)"
   ]
  },
  {
   "cell_type": "code",
   "execution_count": null,
   "id": "3d021ae5-4b9a-4a38-a59e-c73f26b18b92",
   "metadata": {},
   "outputs": [],
   "source": []
  }
 ],
 "metadata": {
  "kernelspec": {
   "display_name": "Python 3 (ipykernel)",
   "language": "python",
   "name": "python3"
  },
  "language_info": {
   "codemirror_mode": {
    "name": "ipython",
    "version": 3
   },
   "file_extension": ".py",
   "mimetype": "text/x-python",
   "name": "python",
   "nbconvert_exporter": "python",
   "pygments_lexer": "ipython3",
   "version": "3.13.0"
  }
 },
 "nbformat": 4,
 "nbformat_minor": 5
}
